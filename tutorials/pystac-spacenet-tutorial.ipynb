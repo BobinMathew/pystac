{
 "cells": [
  {
   "cell_type": "markdown",
   "metadata": {},
   "source": [
    "# Pystac Tutorial\n",
    "## Create and manipulate Spacenet Rio STAC"
   ]
  },
  {
   "cell_type": "markdown",
   "metadata": {},
   "source": [
    "This tutorial shows how to create and manipulate STACs using pystac. It contains two parts:\n",
    "\n",
    "1. Create Spacenet Rio STAC\n",
    "    - Create (in memory) a pystac catalog of [Spacenet 1 imagery from the Rio De Janeiro AOI](https://spacenet.ai/rio-de-janeiro/) using data hosted in a public s3 bucket\n",
    "    - Set uri's based on a root directory\n",
    "    - Save the STAC locally\n",
    "    \n",
    "2. Create a new STAC with COGs and labels\n",
    "    - Load the STAC that was created and saved in step 1\n",
    "    - Determine which images included in the STAC overlap with building labels\n",
    "    - For has labeled buildings, create and save off both COGs and geojsons of building labels\n",
    "    - Create an updated STAC that points to the new files and ony includes labeled scenes\n",
    "    - Set uri's based on a root directory\n",
    "    - Save the STAC locally"
   ]
  },
  {
   "cell_type": "code",
   "execution_count": 2,
   "metadata": {},
   "outputs": [],
   "source": [
    "import sys\n",
    "sys.path.append('..')"
   ]
  },
  {
   "cell_type": "code",
   "execution_count": 7,
   "metadata": {
    "scrolled": false
   },
   "outputs": [],
   "source": [
    "from datetime import datetime\n",
    "from os.path import basename, join\n",
    "from subprocess import call\n",
    "\n",
    "import boto3\n",
    "import geopandas as gpd\n",
    "import rasterio\n",
    "from pystac import (Catalog, Collection, Extent, Item, SpatialExtent,\n",
    "                    TemporalExtent)\n",
    "from shapely.geometry import Polygon, box"
   ]
  },
  {
   "cell_type": "markdown",
   "metadata": {},
   "source": [
    "### Create Spacenet Rio STAC"
   ]
  },
  {
   "cell_type": "code",
   "execution_count": null,
   "metadata": {},
   "outputs": [],
   "source": [
    "# Initialize a Spacenet 1 STAC\n",
    "spacenet = Catalog(id='spacenet', description='Spacenet 1 STAC')"
   ]
  },
  {
   "cell_type": "code",
   "execution_count": null,
   "metadata": {},
   "outputs": [],
   "source": [
    "# Create a spatial extent object using the AOI geojson on S3\n",
    "aoi = 's3://spacenet-dataset/AOIs/AOI_1_Rio/metadata/AOI_1_Rio_metadata_public_AOI_outline.geojson'\n",
    "sp_extent = SpatialExtent(list(gpd.read_file(aoi)['geometry'][0].bounds))"
   ]
  },
  {
   "cell_type": "code",
   "execution_count": null,
   "metadata": {},
   "outputs": [],
   "source": [
    "# The capture date for Spacenet 1 Rio imagery is unspecified in the dataset page so we will use \n",
    "# October 22, 2015 as an example date.\n",
    "\n",
    "# Create a python datetime object\n",
    "capture_date = datetime.strptime('2015-10-22', '%Y-%m-%d') \n",
    "tmp_extent = TemporalExtent([(capture_date, None)])"
   ]
  },
  {
   "cell_type": "code",
   "execution_count": null,
   "metadata": {},
   "outputs": [],
   "source": [
    "# Create an Extent object that will define both the spatial and temporal extents of the Rio collection\n",
    "extent = Extent(sp_extent, tmp_extent)"
   ]
  },
  {
   "cell_type": "code",
   "execution_count": 10,
   "metadata": {},
   "outputs": [],
   "source": [
    "rio = Collection(id='rio', description = 'Rio Spacenet 3 dataset', extent = extent)\n",
    "spacenet.add_child(rio)\n",
    "client = boto3.client('s3')\n",
    "x = client.list_objects(Bucket='spacenet-dataset', Prefix='AOIs/AOI_1_Rio/srcData/mosaic_3band/')['Contents']\n",
    "\n",
    "for scene in x:\n",
    "    uri = join('s3://spacenet-dataset/', scene['Key'])\n",
    "    params = {}\n",
    "    params['id'] = basename(uri).split('.')[0]\n",
    "    with rasterio.open(uri) as src:\n",
    "        params['bbox'] = list(src.bounds)\n",
    "        params['geometry'] = box(*params['bbox']).__geo_interface__\n",
    "    params['datetime'] = capture_date\n",
    "    params['properties'] = {}\n",
    "    i = Item(**params)\n",
    "    i.add_asset(key='image', href=uri, title='Geotiff', media_type='image/tiff')\n",
    "    rio.add_item(i)"
   ]
  },
  {
   "cell_type": "code",
   "execution_count": null,
   "metadata": {},
   "outputs": [],
   "source": [
    "spacenet_cog.set_uris_from_root('spacenet-stac/')\n",
    "spacenet_cog.save()"
   ]
  },
  {
   "cell_type": "markdown",
   "metadata": {},
   "source": [
    "### Create new STAC with COGs and labels"
   ]
  },
  {
   "cell_type": "code",
   "execution_count": 11,
   "metadata": {},
   "outputs": [],
   "source": [
    "labels = gpd.read_file('s3://spacenet-dataset/AOIs/AOI_1_Rio/geojson_buildings/AOI_1_Rio_geojson_buildings.geojson')"
   ]
  },
  {
   "cell_type": "code",
   "execution_count": 12,
   "metadata": {},
   "outputs": [],
   "source": [
    "def cogify_if_labeled(item, labels, data_dir):\n",
    "    scene_labels = labels[labels.within(Polygon(item.geometry['coordinates'][0]))]\n",
    "    if len(scene_labels) == 0:\n",
    "        item.id += '-no-labels'\n",
    "    else:\n",
    "        label_uri = join(data_dir, '{}-labels.geojson'.format(item.id))\n",
    "        scene_labels.to_file(label_uri, driver='GeoJSON')\n",
    "        item.add_asset(key='label', href=label_uri, media_type='application/geo+json')\n",
    "        output_cog_uri = join(data_dir, '{}-cog.tif'.format(item.id))\n",
    "        call(' '.join(['rio', 'cogeo', 'create', item.assets['image'].href, output_cog_uri]), shell=True)\n",
    "        item.assets['image'].href = output_cog_uri\n",
    "    return item"
   ]
  },
  {
   "cell_type": "code",
   "execution_count": 13,
   "metadata": {},
   "outputs": [],
   "source": [
    "spacenet_cog = spacenet.map_items(cogify_if_labeled, labels=labels, data_dir='/home/simon/Desktop/')"
   ]
  },
  {
   "cell_type": "code",
   "execution_count": 27,
   "metadata": {},
   "outputs": [],
   "source": [
    "new_links = []\n",
    "for link in spacenet_cog.get_child('rio').links:\n",
    "    if link.rel != 'item':\n",
    "        new_links.append(link)\n",
    "    elif not link.target.id.endswith('00'):\n",
    "        new_links.append(link)"
   ]
  },
  {
   "cell_type": "code",
   "execution_count": 29,
   "metadata": {
    "scrolled": true
   },
   "outputs": [],
   "source": [
    "spacenet_cog.get_child('rio').links = new_links"
   ]
  },
  {
   "cell_type": "code",
   "execution_count": 34,
   "metadata": {},
   "outputs": [],
   "source": [
    "spacenet_cog.set_uris_from_root('spacenet-cog-stac/')\n",
    "spacenet_cog.save()"
   ]
  }
 ],
 "metadata": {
  "kernelspec": {
   "display_name": "Python 3",
   "language": "python",
   "name": "python3"
  },
  "language_info": {
   "codemirror_mode": {
    "name": "ipython",
    "version": 3
   },
   "file_extension": ".py",
   "mimetype": "text/x-python",
   "name": "python",
   "nbconvert_exporter": "python",
   "pygments_lexer": "ipython3",
   "version": "3.6.8"
  }
 },
 "nbformat": 4,
 "nbformat_minor": 2
}
