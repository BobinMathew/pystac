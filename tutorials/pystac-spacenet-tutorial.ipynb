{
 "cells": [
  {
   "cell_type": "markdown",
   "metadata": {},
   "source": [
    "# Pystac Tutorial\n",
    "## Create and manipulate Spacenet Rio STAC"
   ]
  },
  {
   "cell_type": "markdown",
   "metadata": {},
   "source": [
    "This tutorial shows how to create and manipulate STACs using pystac. It contains two parts:\n",
    "\n",
    "1. Create Spacenet Rio STAC\n",
    "    - Create (in memory) a pystac catalog of [Spacenet 1 imagery from the Rio De Janeiro AOI](https://spacenet.ai/rio-de-janeiro/) using data hosted in a public s3 bucket\n",
    "    - Set uri's based on a root directory\n",
    "    - Save the STAC locally\n",
    "    \n",
    "    \n",
    "2. Create a new STAC with COGs and labels\n",
    "    - Determine which images included in the STAC overlap with building labels\n",
    "    - For has labeled buildings, create and save off both COGs and geojsons of building labels\n",
    "    - Create an updated STAC that points to the new files and ony includes labeled scenes\n",
    "    - Set uri's based on a root directory\n",
    "    - Save the STAC locally"
   ]
  },
  {
   "cell_type": "code",
   "execution_count": 1,
   "metadata": {},
   "outputs": [],
   "source": [
    "import sys\n",
    "sys.path.append('..')"
   ]
  },
  {
   "cell_type": "code",
   "execution_count": 2,
   "metadata": {
    "scrolled": false
   },
   "outputs": [],
   "source": [
    "from datetime import datetime\n",
    "from os.path import basename, join\n",
    "from subprocess import call\n",
    "\n",
    "import boto3\n",
    "import geopandas as gpd\n",
    "import rasterio\n",
    "from pystac import (Catalog, Collection, Extent, Item, SpatialExtent,\n",
    "                    TemporalExtent)\n",
    "from shapely.geometry import Polygon, box"
   ]
  },
  {
   "cell_type": "markdown",
   "metadata": {},
   "source": [
    "### Create Spacenet Rio STAC"
   ]
  },
  {
   "cell_type": "markdown",
   "metadata": {},
   "source": [
    "Initialize a STAC for the Spacenet 1 dataset"
   ]
  },
  {
   "cell_type": "code",
   "execution_count": 3,
   "metadata": {},
   "outputs": [],
   "source": [
    "spacenet = Catalog(id='spacenet', description='Spacenet 1 STAC')"
   ]
  },
  {
   "cell_type": "markdown",
   "metadata": {},
   "source": [
    "Create a spatial extent object using the AOI geojson on S3"
   ]
  },
  {
   "cell_type": "code",
   "execution_count": 4,
   "metadata": {},
   "outputs": [],
   "source": [
    "aoi = 's3://spacenet-dataset/AOIs/AOI_1_Rio/metadata/AOI_1_Rio_metadata_public_AOI_outline.geojson'\n",
    "sp_extent = SpatialExtent(list(gpd.read_file(aoi)['geometry'][0].bounds))"
   ]
  },
  {
   "cell_type": "markdown",
   "metadata": {},
   "source": [
    "The capture date for Spacenet 1 Rio imagery is unspecified in the dataset page so we will use October 22, 2015 as an example date. Create a python datetime object using that date"
   ]
  },
  {
   "cell_type": "code",
   "execution_count": 5,
   "metadata": {},
   "outputs": [],
   "source": [
    "capture_date = datetime.strptime('2015-10-22', '%Y-%m-%d') \n",
    "tmp_extent = TemporalExtent([(capture_date, None)])"
   ]
  },
  {
   "cell_type": "markdown",
   "metadata": {},
   "source": [
    "Create an Extent object that will define both the spatial and temporal extents of the Rio collection"
   ]
  },
  {
   "cell_type": "code",
   "execution_count": 6,
   "metadata": {},
   "outputs": [],
   "source": [
    "extent = Extent(sp_extent, tmp_extent)"
   ]
  },
  {
   "cell_type": "markdown",
   "metadata": {},
   "source": [
    "Create a collection that will encompass all of the Rio De Janeiro data and add to the spacenet catalog"
   ]
  },
  {
   "cell_type": "code",
   "execution_count": 7,
   "metadata": {},
   "outputs": [],
   "source": [
    "rio = Collection(id='rio', description = 'Rio Spacenet 3 dataset', extent = extent)\n",
    "spacenet.add_child(rio)"
   ]
  },
  {
   "cell_type": "code",
   "execution_count": 9,
   "metadata": {},
   "outputs": [
    {
     "name": "stdout",
     "output_type": "stream",
     "text": [
      "* <Catalog id=spacenet>\n",
      "    * <Collection id=rio>\n"
     ]
    }
   ],
   "source": [
    "spacenet.describe()"
   ]
  },
  {
   "cell_type": "markdown",
   "metadata": {},
   "source": [
    "Find all Rio De Janeiro scenes"
   ]
  },
  {
   "cell_type": "code",
   "execution_count": 10,
   "metadata": {},
   "outputs": [],
   "source": [
    "client = boto3.client('s3')\n",
    "scenes = client.list_objects(Bucket='spacenet-dataset', Prefix='AOIs/AOI_1_Rio/srcData/mosaic_3band/')['Contents']"
   ]
  },
  {
   "cell_type": "markdown",
   "metadata": {},
   "source": [
    "For each scene, create and item with a defined bounding box. Each item will include the geotiff as an asset. We will add labels in the next section."
   ]
  },
  {
   "cell_type": "code",
   "execution_count": 11,
   "metadata": {},
   "outputs": [],
   "source": [
    "for scene in scenes:\n",
    "    uri = join('s3://spacenet-dataset/', scene['Key'])\n",
    "    params = {}\n",
    "    params['id'] = basename(uri).split('.')[0]\n",
    "    with rasterio.open(uri) as src:\n",
    "        params['bbox'] = list(src.bounds)\n",
    "        params['geometry'] = box(*params['bbox']).__geo_interface__\n",
    "    params['datetime'] = capture_date\n",
    "    params['properties'] = {}\n",
    "    i = Item(**params)\n",
    "    i.add_asset(key='image', href=uri, title='Geotiff', media_type='image/tiff')\n",
    "    rio.add_item(i)"
   ]
  },
  {
   "cell_type": "code",
   "execution_count": 24,
   "metadata": {},
   "outputs": [
    {
     "name": "stdout",
     "output_type": "stream",
     "text": [
      "* <Catalog id=spacenet>\n",
      "    * <Collection id=rio>\n",
      "      * <Item id=013022223103>\n",
      "      * <Item id=013022223112>\n",
      "      * <Item id=013022223113>\n",
      "      * <Item id=013022223121>\n",
      "      * <Item id=013022223123>\n",
      "      * <Item id=013022223130>\n",
      "      * <Item id=013022223131>\n",
      "      * <Item id=013022223132>\n",
      "      * <Item id=013022223133>\n",
      "      * <Item id=013022223301>\n",
      "      * <Item id=013022223310>\n",
      "      * <Item id=013022223311>\n",
      "      * <Item id=013022232002>\n",
      "      * <Item id=013022232003>\n",
      "      * <Item id=013022232020>\n",
      "      * <Item id=013022232021>\n",
      "      * <Item id=013022232022>\n",
      "      * <Item id=013022232023>\n",
      "      * <Item id=013022232200>\n",
      "      * <Item id=013022232201>\n"
     ]
    }
   ],
   "source": [
    "spacenet.describe()"
   ]
  },
  {
   "cell_type": "markdown",
   "metadata": {},
   "source": [
    "Currently, this STAC only exists in memory. We can specify the uri's using the `set_uris_from_root` method. You give this method a root directory and it will generate paths for all STAC objects relative to that directory."
   ]
  },
  {
   "cell_type": "code",
   "execution_count": 34,
   "metadata": {},
   "outputs": [],
   "source": [
    "spacenet.set_uris_from_root('spacenet-stac')"
   ]
  },
  {
   "cell_type": "markdown",
   "metadata": {},
   "source": [
    "Not, for example, the path of the rio collection json"
   ]
  },
  {
   "cell_type": "code",
   "execution_count": 35,
   "metadata": {},
   "outputs": [
    {
     "data": {
      "text/plain": [
       "[<Link rel=self target=spacenet-stac/rio/collection.json>]"
      ]
     },
     "execution_count": 35,
     "metadata": {},
     "output_type": "execute_result"
    }
   ],
   "source": [
    "spacenet.get_children()[0].get_links('self')"
   ]
  },
  {
   "cell_type": "markdown",
   "metadata": {},
   "source": [
    "Use the `save` method to save off the JSON file structure"
   ]
  },
  {
   "cell_type": "code",
   "execution_count": 23,
   "metadata": {},
   "outputs": [],
   "source": [
    "spacenet.save()"
   ]
  },
  {
   "cell_type": "markdown",
   "metadata": {},
   "source": [
    "### Create new STAC with COGs and labels"
   ]
  },
  {
   "cell_type": "markdown",
   "metadata": {},
   "source": [
    "Not all of the Spacenet Rio images have labels associates with them. Some fall outside of the labeled AOI. In this case we are only interested in a STAC that includes scenes (i.e. STAC items) that have building labels. We will first check to make sure that each image has labels, if it does, we will create a COG of that image and a new STAC item that points to both the COG and the labels. "
   ]
  },
  {
   "cell_type": "markdown",
   "metadata": {},
   "source": [
    "In this case, the labels are all in one large geojson on s3. We will need to read them in and break them into individual label Geojsons for each scene."
   ]
  },
  {
   "cell_type": "code",
   "execution_count": 36,
   "metadata": {},
   "outputs": [],
   "source": [
    "labels = gpd.read_file('s3://spacenet-dataset/AOIs/AOI_1_Rio/geojson_buildings/AOI_1_Rio_geojson_buildings.geojson')"
   ]
  },
  {
   "cell_type": "markdown",
   "metadata": {},
   "source": [
    "In order to create the COGs you will need to install [rio-cogeo](https://github.com/cogeotiff/rio-cogeo).\n",
    "\n",
    "`$ pip install rio-cogeo`"
   ]
  },
  {
   "cell_type": "markdown",
   "metadata": {},
   "source": [
    "You can map over each item in a catalog using the `map_items` method. This method takes a user-specified function (`item_mapper`) and maps it over all items within a copy of the catalog. It returns the altered catalog. The `item_mapper` function must take an item and return either another item or a list of items. \n",
    "\n",
    "The item mapper defined below checks whether or not the image associated with each item overlaps with the labels. If the image doesn't, it manipulates that item's id to indicate so. If the image does overlap with labels, it saves off the ovelapping labels as a geojson, creates a COG of the image and updates the item to reflect the changes."
   ]
  },
  {
   "cell_type": "code",
   "execution_count": 37,
   "metadata": {},
   "outputs": [],
   "source": [
    "def cogify_if_labeled(item, labels, data_dir):\n",
    "    scene_labels = labels[labels.within(Polygon(item.geometry['coordinates'][0]))]\n",
    "    if len(scene_labels) == 0:\n",
    "        item.id += '-no-labels'\n",
    "    else:\n",
    "        label_uri = join(data_dir, '{}-labels.geojson'.format(item.id))\n",
    "        scene_labels.to_file(label_uri, driver='GeoJSON')\n",
    "        item.add_asset(key='label', href=label_uri, media_type='application/geo+json')\n",
    "        output_cog_uri = join(data_dir, '{}-cog.tif'.format(item.id))\n",
    "        call(' '.join(['rio', 'cogeo', 'create', item.assets['image'].href, output_cog_uri]), shell=True)\n",
    "        item.assets['image'].href = output_cog_uri\n",
    "    return item"
   ]
  },
  {
   "cell_type": "code",
   "execution_count": 38,
   "metadata": {},
   "outputs": [],
   "source": [
    "spacenet_cog = spacenet.map_items(cogify_if_labeled, labels=labels, data_dir='~/spacenet-cogs/')"
   ]
  },
  {
   "cell_type": "code",
   "execution_count": 39,
   "metadata": {},
   "outputs": [
    {
     "name": "stdout",
     "output_type": "stream",
     "text": [
      "* <Catalog id=spacenet>\n",
      "    * <Collection id=rio>\n",
      "      * <Item id=013022223103-no-labels>\n",
      "      * <Item id=013022223112-no-labels>\n",
      "      * <Item id=013022223113-no-labels>\n",
      "      * <Item id=013022223121-no-labels>\n",
      "      * <Item id=013022223123>\n",
      "      * <Item id=013022223130>\n",
      "      * <Item id=013022223131>\n",
      "      * <Item id=013022223132>\n",
      "      * <Item id=013022223133>\n",
      "      * <Item id=013022223301-no-labels>\n",
      "      * <Item id=013022223310-no-labels>\n",
      "      * <Item id=013022223311-no-labels>\n",
      "      * <Item id=013022232002-no-labels>\n",
      "      * <Item id=013022232003-no-labels>\n",
      "      * <Item id=013022232020>\n",
      "      * <Item id=013022232021>\n",
      "      * <Item id=013022232022>\n",
      "      * <Item id=013022232023>\n",
      "      * <Item id=013022232200>\n",
      "      * <Item id=013022232201-no-labels>\n"
     ]
    }
   ],
   "source": [
    "spacenet_cog.describe()"
   ]
  },
  {
   "cell_type": "markdown",
   "metadata": {},
   "source": [
    "After creating COGs and updating STAC items, we need to filter out the items that do not have labels associated with them. We can create a new list of links and filter the item links by id, then update the links property in the  root catalog."
   ]
  },
  {
   "cell_type": "code",
   "execution_count": 40,
   "metadata": {},
   "outputs": [],
   "source": [
    "new_links = []\n",
    "for link in spacenet_cog.get_child('rio').links:\n",
    "    if link.rel != 'item':\n",
    "        new_links.append(link)\n",
    "    elif not link.target.id.endswith('-no-labels'):\n",
    "        new_links.append(link)"
   ]
  },
  {
   "cell_type": "code",
   "execution_count": 41,
   "metadata": {
    "scrolled": true
   },
   "outputs": [],
   "source": [
    "spacenet_cog.get_child('rio').links = new_links"
   ]
  },
  {
   "cell_type": "code",
   "execution_count": 42,
   "metadata": {},
   "outputs": [
    {
     "name": "stdout",
     "output_type": "stream",
     "text": [
      "* <Catalog id=spacenet>\n",
      "    * <Collection id=rio>\n",
      "      * <Item id=013022223123>\n",
      "      * <Item id=013022223130>\n",
      "      * <Item id=013022223131>\n",
      "      * <Item id=013022223132>\n",
      "      * <Item id=013022223133>\n",
      "      * <Item id=013022232020>\n",
      "      * <Item id=013022232021>\n",
      "      * <Item id=013022232022>\n",
      "      * <Item id=013022232023>\n",
      "      * <Item id=013022232200>\n"
     ]
    }
   ],
   "source": [
    "spacenet_cog.describe()"
   ]
  },
  {
   "cell_type": "markdown",
   "metadata": {},
   "source": [
    "Finally we set a different root uri for this STAC and save it locally"
   ]
  },
  {
   "cell_type": "code",
   "execution_count": 43,
   "metadata": {},
   "outputs": [],
   "source": [
    "spacenet_cog.set_uris_from_root('spacenet-cog-stac/')\n",
    "spacenet_cog.save()"
   ]
  }
 ],
 "metadata": {
  "kernelspec": {
   "display_name": "Python 3",
   "language": "python",
   "name": "python3"
  },
  "language_info": {
   "codemirror_mode": {
    "name": "ipython",
    "version": 3
   },
   "file_extension": ".py",
   "mimetype": "text/x-python",
   "name": "python",
   "nbconvert_exporter": "python",
   "pygments_lexer": "ipython3",
   "version": "3.6.8"
  }
 },
 "nbformat": 4,
 "nbformat_minor": 2
}
