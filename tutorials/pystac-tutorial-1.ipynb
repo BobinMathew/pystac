{
 "cells": [
  {
   "cell_type": "markdown",
   "metadata": {},
   "source": [
    "# pystac: Working with catalogs"
   ]
  },
  {
   "cell_type": "markdown",
   "metadata": {},
   "source": [
    "##### Example catalog structrure:\n",
    "```\n",
    "example-catalog/\n",
    "├── catalog.json\n",
    "└── eo\n",
    "    ├── catalog.json\n",
    "    ├── landsat-8-l1\n",
    "    │   ├── catalog.json\n",
    "    │   └── item.json\n",
    "    └── sentinel-2-l1c\n",
    "        ├── catalog.json\n",
    "        └── sentinel-2a\n",
    "            ├── catalog.json\n",
    "            └── item.json\n",
    "```"
   ]
  },
  {
   "cell_type": "code",
   "execution_count": 1,
   "metadata": {},
   "outputs": [],
   "source": [
    "%load_ext autoreload\n",
    "%autoreload 2"
   ]
  },
  {
   "cell_type": "code",
   "execution_count": 2,
   "metadata": {},
   "outputs": [],
   "source": [
    "import sys\n",
    "sys.path.append('..')"
   ]
  },
  {
   "cell_type": "code",
   "execution_count": 3,
   "metadata": {
    "scrolled": false
   },
   "outputs": [],
   "source": [
    "from os.path import dirname\n",
    "import pprint\n",
    "\n",
    "from pystac import Catalog, Collection, Item"
   ]
  },
  {
   "cell_type": "code",
   "execution_count": 4,
   "metadata": {},
   "outputs": [],
   "source": [
    "pp = pprint.PrettyPrinter(indent=4)"
   ]
  },
  {
   "cell_type": "markdown",
   "metadata": {},
   "source": [
    "### Working with existing catalogs"
   ]
  },
  {
   "cell_type": "code",
   "execution_count": null,
   "metadata": {},
   "outputs": [],
   "source": [
    "# open a root catalog\n",
    "cat = Catalog.from_file('example-catalog/catalog.json')"
   ]
  },
  {
   "cell_type": "code",
   "execution_count": null,
   "metadata": {},
   "outputs": [],
   "source": [
    "# get first (and only in this case) sub-catalog\n",
    "subcat = cat.get_children()[0]"
   ]
  },
  {
   "cell_type": "code",
   "execution_count": null,
   "metadata": {},
   "outputs": [],
   "source": [
    "# print some IDs\n",
    "print(\"Root Catalog: \", cat.id)\n",
    "print(\"Sub Catalog: \", subcat.id)\n",
    "print(\"Sub Catalog parent: \", subcat.get_parent().id)\n",
    "\n",
    "# iterate through child catalogs of the sub-catalog\n",
    "print(\"Sub Catalog children:\")\n",
    "for child in subcat.get_children():\n",
    "    print('    ', child.id)"
   ]
  },
  {
   "cell_type": "code",
   "execution_count": null,
   "metadata": {},
   "outputs": [],
   "source": [
    "all_catalogs = cat.catalogs()\n",
    "all_collections = cat.collections()\n",
    "all_items = cat.items()\n",
    "\n",
    "print(all_catalogs)\n",
    "print(all_collections)\n",
    "print(all_items)"
   ]
  },
  {
   "cell_type": "code",
   "execution_count": null,
   "metadata": {},
   "outputs": [],
   "source": [
    "print('**Catalogs**')\n",
    "for c in cat.catalogs():\n",
    "    print(c.id)\n",
    "\n",
    "print('\\n**Collections**')\n",
    "for c in cat.collections():\n",
    "    print(c.id)\n",
    "    \n",
    "print('\\n**Items**')\n",
    "for i in cat.items():\n",
    "    print(i.id)"
   ]
  },
  {
   "cell_type": "markdown",
   "metadata": {},
   "source": [
    "### Creating new catalogs"
   ]
  },
  {
   "cell_type": "code",
   "execution_count": 5,
   "metadata": {
    "scrolled": true
   },
   "outputs": [],
   "source": [
    "# create a Catalog object with JSON\n",
    "cat_json = {\n",
    "    \"id\": \"mycat\",\n",
    "    \"description\": \"My shiny new STAC catalog\",\n",
    "    \"href\": \"my_cat\"\n",
    "}\n",
    "mycat = Catalog(**cat_json)"
   ]
  },
  {
   "cell_type": "code",
   "execution_count": 6,
   "metadata": {},
   "outputs": [],
   "source": [
    "mycat.set_uris_from_root('my_cat')\n",
    "mycat.save()"
   ]
  },
  {
   "cell_type": "code",
   "execution_count": 7,
   "metadata": {},
   "outputs": [
    {
     "name": "stdout",
     "output_type": "stream",
     "text": [
      "mycat\n",
      "my_cat/catalog.json\n",
      "my_cat\n"
     ]
    }
   ],
   "source": [
    "print(mycat.id)\n",
    "# the filename is then stored with the object\n",
    "filename = mycat.get_links('self')[0].target\n",
    "print(filename)\n",
    "path = dirname(filename)\n",
    "print(path)"
   ]
  },
  {
   "cell_type": "markdown",
   "metadata": {},
   "source": [
    "### Adding catalogs to catalogs"
   ]
  },
  {
   "cell_type": "code",
   "execution_count": 8,
   "metadata": {},
   "outputs": [
    {
     "name": "stdout",
     "output_type": "stream",
     "text": [
      "Child catalog filename after adding:  my_cat/mykitten/catalog.json\n"
     ]
    }
   ],
   "source": [
    "# add a new catalog to a root catalog\n",
    "kitten_json = {\n",
    "    \"id\": \"mykitten\",\n",
    "    \"description\": \"A child catalog of my shiny new STAC catalog\"\n",
    "}\n",
    "\n",
    "kitten = Catalog(**kitten_json)\n",
    "mycat.add_child(kitten)\n",
    "\n",
    "kitten.set_relative_to_parent()\n",
    "print('Child catalog filename after adding: ', kitten.get_single_link('self').target)"
   ]
  },
  {
   "cell_type": "code",
   "execution_count": 9,
   "metadata": {},
   "outputs": [],
   "source": [
    "mycat.save()"
   ]
  },
  {
   "cell_type": "markdown",
   "metadata": {},
   "source": [
    "### Adding collections to catalogs"
   ]
  },
  {
   "cell_type": "code",
   "execution_count": 11,
   "metadata": {},
   "outputs": [
    {
     "name": "stdout",
     "output_type": "stream",
     "text": [
      "Collection name:  landsat-8-l1\n"
     ]
    }
   ],
   "source": [
    "# open the Landsat collection\n",
    "collection = Collection.from_file('example-catalog/eo/landsat-8-l1/catalog.json')\n",
    "print('Collection name: ', collection.id)"
   ]
  },
  {
   "cell_type": "code",
   "execution_count": 13,
   "metadata": {},
   "outputs": [],
   "source": [
    "collection.set_root(mycat)"
   ]
  },
  {
   "cell_type": "code",
   "execution_count": 14,
   "metadata": {},
   "outputs": [
    {
     "data": {
      "text/plain": [
       "[<Link rel=parent target=../catalog.json>,\n",
       " <Link rel=item target=item.json>,\n",
       " <Link rel=self target=example-catalog/eo/landsat-8-l1/catalog.json>,\n",
       " <Link rel=root target=<Catalog id=mycat>>]"
      ]
     },
     "execution_count": 14,
     "metadata": {},
     "output_type": "execute_result"
    }
   ],
   "source": [
    "collection.links"
   ]
  },
  {
   "cell_type": "code",
   "execution_count": 15,
   "metadata": {},
   "outputs": [],
   "source": [
    "collection.set_parent(kitten)"
   ]
  },
  {
   "cell_type": "code",
   "execution_count": 17,
   "metadata": {},
   "outputs": [
    {
     "data": {
      "text/plain": [
       "[<Link rel=item target=item.json>,\n",
       " <Link rel=self target=example-catalog/eo/landsat-8-l1/catalog.json>,\n",
       " <Link rel=root target=<Catalog id=mycat>>,\n",
       " <Link rel=parent target=<Catalog id=mykitten>>]"
      ]
     },
     "execution_count": 17,
     "metadata": {},
     "output_type": "execute_result"
    }
   ],
   "source": [
    "collection.links"
   ]
  },
  {
   "cell_type": "code",
   "execution_count": 18,
   "metadata": {},
   "outputs": [],
   "source": [
    "collection.clear_links('item')"
   ]
  },
  {
   "cell_type": "code",
   "execution_count": 19,
   "metadata": {},
   "outputs": [
    {
     "data": {
      "text/plain": [
       "[<Link rel=self target=example-catalog/eo/landsat-8-l1/catalog.json>,\n",
       " <Link rel=root target=<Catalog id=mycat>>,\n",
       " <Link rel=parent target=<Catalog id=mykitten>>]"
      ]
     },
     "execution_count": 19,
     "metadata": {},
     "output_type": "execute_result"
    }
   ],
   "source": [
    "collection.links"
   ]
  },
  {
   "cell_type": "code",
   "execution_count": 20,
   "metadata": {},
   "outputs": [],
   "source": [
    "collection.set_relative_to_parent()"
   ]
  },
  {
   "cell_type": "code",
   "execution_count": 21,
   "metadata": {},
   "outputs": [
    {
     "data": {
      "text/plain": [
       "[<Link rel=root target=<Catalog id=mycat>>,\n",
       " <Link rel=parent target=<Catalog id=mykitten>>,\n",
       " <Link rel=self target=my_cat/mykitten/landsat-8-l1/collection.json>]"
      ]
     },
     "execution_count": 21,
     "metadata": {},
     "output_type": "execute_result"
    }
   ],
   "source": [
    "collection.links"
   ]
  },
  {
   "cell_type": "code",
   "execution_count": 22,
   "metadata": {
    "scrolled": true
   },
   "outputs": [
    {
     "name": "stdout",
     "output_type": "stream",
     "text": [
      "Collection filename:  my_cat/mykitten/landsat-8-l1/collection.json\n"
     ]
    }
   ],
   "source": [
    "# add it to the child catalog created above\n",
    "kitten.add_child(collection)\n",
    "print('Collection filename: ', collection.filename)"
   ]
  },
  {
   "cell_type": "code",
   "execution_count": 23,
   "metadata": {},
   "outputs": [
    {
     "name": "stdout",
     "output_type": "stream",
     "text": [
      "> /home/simon/files/rv/stac/pystac/pystac/io.py(56)save_json()\n",
      "-> os.makedirs(dirname)\n",
      "(Pdb) c\n"
     ]
    }
   ],
   "source": [
    "mycat.save()"
   ]
  },
  {
   "cell_type": "code",
   "execution_count": null,
   "metadata": {},
   "outputs": [],
   "source": [
    "print('\\n**Collection links**')\n",
    "pp.pprint(collection.get_links())"
   ]
  },
  {
   "cell_type": "code",
   "execution_count": null,
   "metadata": {},
   "outputs": [],
   "source": [
    "collection.set_relative_paths()"
   ]
  },
  {
   "cell_type": "code",
   "execution_count": null,
   "metadata": {},
   "outputs": [],
   "source": [
    "collection.full_copy(mycat, kitten)"
   ]
  },
  {
   "cell_type": "code",
   "execution_count": null,
   "metadata": {
    "scrolled": true
   },
   "outputs": [],
   "source": [
    "item.set_parent(kitten)"
   ]
  },
  {
   "cell_type": "code",
   "execution_count": null,
   "metadata": {},
   "outputs": [],
   "source": [
    "item.links"
   ]
  },
  {
   "cell_type": "code",
   "execution_count": null,
   "metadata": {},
   "outputs": [],
   "source": []
  },
  {
   "cell_type": "markdown",
   "metadata": {},
   "source": [
    "### Adding items to collection"
   ]
  },
  {
   "cell_type": "code",
   "execution_count": null,
   "metadata": {},
   "outputs": [],
   "source": [
    "# open a Landsat item\n",
    "item = Item.from_file('example-catalog/eo/landsat-8-l1/item.json')\n",
    "print('Item name: ', collection)\n",
    "\n",
    "# add it to the collection created above\n",
    "collection.add_item(item)\n",
    "# print('Item filename: ', item.filename)\n",
    "\n",
    "# print('\\n**Item links**')\n",
    "# pp.pprint(item._data['links'])"
   ]
  },
  {
   "cell_type": "code",
   "execution_count": null,
   "metadata": {
    "scrolled": true
   },
   "outputs": [],
   "source": [
    "item.get_self_href()"
   ]
  },
  {
   "cell_type": "code",
   "execution_count": null,
   "metadata": {},
   "outputs": [],
   "source": [
    "collection.get_self_href()"
   ]
  },
  {
   "cell_type": "code",
   "execution_count": null,
   "metadata": {},
   "outputs": [],
   "source": [
    "item.set_uris_"
   ]
  },
  {
   "cell_type": "code",
   "execution_count": null,
   "metadata": {},
   "outputs": [],
   "source": [
    "item.get_self_href()"
   ]
  },
  {
   "cell_type": "code",
   "execution_count": null,
   "metadata": {},
   "outputs": [],
   "source": [
    "collection.set_relative_to_parent()"
   ]
  },
  {
   "cell_type": "code",
   "execution_count": null,
   "metadata": {},
   "outputs": [],
   "source": [
    "item.get_self_href()"
   ]
  },
  {
   "cell_type": "code",
   "execution_count": null,
   "metadata": {},
   "outputs": [],
   "source": []
  }
 ],
 "metadata": {
  "kernelspec": {
   "display_name": "Python 3",
   "language": "python",
   "name": "python3"
  },
  "language_info": {
   "codemirror_mode": {
    "name": "ipython",
    "version": 3
   },
   "file_extension": ".py",
   "mimetype": "text/x-python",
   "name": "python",
   "nbconvert_exporter": "python",
   "pygments_lexer": "ipython3",
   "version": "3.6.8"
  }
 },
 "nbformat": 4,
 "nbformat_minor": 2
}
