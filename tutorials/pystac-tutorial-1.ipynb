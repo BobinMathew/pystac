{
 "cells": [
  {
   "cell_type": "markdown",
   "metadata": {},
   "source": [
    "# pystac: Working with catalogs"
   ]
  },
  {
   "cell_type": "markdown",
   "metadata": {},
   "source": [
    "##### Example catalog structrure:\n",
    "```\n",
    "example-catalog/\n",
    "├── catalog.json\n",
    "└── eo\n",
    "    ├── catalog.json\n",
    "    ├── landsat-8-l1\n",
    "    │   ├── catalog.json\n",
    "    │   └── item.json\n",
    "    └── sentinel-2-l1c\n",
    "        ├── catalog.json\n",
    "        └── sentinel-2a\n",
    "            ├── catalog.json\n",
    "            └── item.json\n",
    "```"
   ]
  },
  {
   "cell_type": "code",
   "execution_count": 1,
   "metadata": {},
   "outputs": [],
   "source": [
    "%load_ext autoreload\n",
    "%autoreload 2"
   ]
  },
  {
   "cell_type": "code",
   "execution_count": 2,
   "metadata": {},
   "outputs": [],
   "source": [
    "import sys\n",
    "sys.path.append('..')"
   ]
  },
  {
   "cell_type": "code",
   "execution_count": 3,
   "metadata": {
    "scrolled": false
   },
   "outputs": [],
   "source": [
    "from os.path import dirname\n",
    "import pprint\n",
    "\n",
    "from pystac import Catalog, Collection, Item"
   ]
  },
  {
   "cell_type": "code",
   "execution_count": 4,
   "metadata": {},
   "outputs": [],
   "source": [
    "pp = pprint.PrettyPrinter(indent=4)"
   ]
  },
  {
   "cell_type": "markdown",
   "metadata": {},
   "source": [
    "### Working with existing catalogs"
   ]
  },
  {
   "cell_type": "code",
   "execution_count": null,
   "metadata": {},
   "outputs": [],
   "source": [
    "# open a root catalog\n",
    "cat = Catalog.from_file('example-catalog/catalog.json')"
   ]
  },
  {
   "cell_type": "code",
   "execution_count": null,
   "metadata": {},
   "outputs": [],
   "source": [
    "# get first (and only in this case) sub-catalog\n",
    "subcat = cat.get_children()[0]"
   ]
  },
  {
   "cell_type": "code",
   "execution_count": null,
   "metadata": {},
   "outputs": [],
   "source": [
    "# print some IDs\n",
    "print(\"Root Catalog: \", cat.id)\n",
    "print(\"Sub Catalog: \", subcat.id)\n",
    "print(\"Sub Catalog parent: \", subcat.get_parent().id)\n",
    "\n",
    "# iterate through child catalogs of the sub-catalog\n",
    "print(\"Sub Catalog children:\")\n",
    "for child in subcat.get_children():\n",
    "    print('    ', child.id)"
   ]
  },
  {
   "cell_type": "code",
   "execution_count": null,
   "metadata": {},
   "outputs": [],
   "source": [
    "all_items = cat.get_all_items()\n",
    "\n",
    "print(all_items)"
   ]
  },
  {
   "cell_type": "code",
   "execution_count": null,
   "metadata": {},
   "outputs": [],
   "source": [
    "print('\\n**Items**')\n",
    "for i in cat.items():\n",
    "    print(i.id)"
   ]
  },
  {
   "cell_type": "markdown",
   "metadata": {},
   "source": [
    "### Creating new catalogs"
   ]
  },
  {
   "cell_type": "code",
   "execution_count": 44,
   "metadata": {
    "scrolled": true
   },
   "outputs": [],
   "source": [
    "# create a Catalog object with JSON\n",
    "cat_json = {\n",
    "    \"id\": \"mycat\",\n",
    "    \"description\": \"My shiny new STAC catalog\",\n",
    "    \"href\": \"my_cat\"\n",
    "}\n",
    "mycat = Catalog(**cat_json)"
   ]
  },
  {
   "cell_type": "code",
   "execution_count": 45,
   "metadata": {},
   "outputs": [
    {
     "name": "stdout",
     "output_type": "stream",
     "text": [
      "* <Catalog id=mycat>\n"
     ]
    }
   ],
   "source": [
    "mycat.describe()"
   ]
  },
  {
   "cell_type": "markdown",
   "metadata": {},
   "source": [
    "### Adding catalogs to catalogs"
   ]
  },
  {
   "cell_type": "code",
   "execution_count": 46,
   "metadata": {
    "scrolled": true
   },
   "outputs": [],
   "source": [
    "# add a new catalog to a root catalog\n",
    "kitten_json = {\n",
    "    \"id\": \"mykitten\",\n",
    "    \"description\": \"A child catalog of my shiny new STAC catalog\"\n",
    "}\n",
    "\n",
    "kitten = Catalog(**kitten_json)"
   ]
  },
  {
   "cell_type": "code",
   "execution_count": 47,
   "metadata": {},
   "outputs": [],
   "source": [
    "mycat.add_child(kitten)"
   ]
  },
  {
   "cell_type": "code",
   "execution_count": 48,
   "metadata": {},
   "outputs": [
    {
     "name": "stdout",
     "output_type": "stream",
     "text": [
      "* <Catalog id=mycat>\n",
      "    * <Catalog id=mykitten>\n"
     ]
    }
   ],
   "source": [
    "mycat.describe()"
   ]
  },
  {
   "cell_type": "markdown",
   "metadata": {},
   "source": [
    "### Adding collections to catalogs"
   ]
  },
  {
   "cell_type": "code",
   "execution_count": 72,
   "metadata": {},
   "outputs": [
    {
     "name": "stdout",
     "output_type": "stream",
     "text": [
      "Collection name:  landsat-8-l1\n"
     ]
    }
   ],
   "source": [
    "# open the Landsat collection\n",
    "collection = Collection.from_file('example-catalog/eo/landsat-8-l1/catalog.json')\n",
    "print('Collection name: ', collection.id)"
   ]
  },
  {
   "cell_type": "code",
   "execution_count": 50,
   "metadata": {},
   "outputs": [
    {
     "name": "stdout",
     "output_type": "stream",
     "text": [
      "* <Collection id=landsat-8-l1>\n",
      "  * <Item id=LC08_L1GT_120046_20181012_20181012_01_RT>\n"
     ]
    }
   ],
   "source": [
    "collection.describe()"
   ]
  },
  {
   "cell_type": "code",
   "execution_count": 51,
   "metadata": {},
   "outputs": [
    {
     "data": {
      "text/plain": [
       "[<Link rel=root target=<Collection id=landsat-8-l1>>,\n",
       " <Link rel=root target=../../catalog.json>,\n",
       " <Link rel=parent target=../catalog.json>,\n",
       " <Link rel=item target=<Item id=LC08_L1GT_120046_20181012_20181012_01_RT>>,\n",
       " <Link rel=self target=example-catalog/eo/landsat-8-l1/catalog.json>]"
      ]
     },
     "execution_count": 51,
     "metadata": {},
     "output_type": "execute_result"
    }
   ],
   "source": [
    "collection.links"
   ]
  },
  {
   "cell_type": "code",
   "execution_count": 52,
   "metadata": {
    "scrolled": true
   },
   "outputs": [],
   "source": [
    "# add it to the child catalog created above\n",
    "kitten.add_child(collection)\n",
    "# print('Collection filename: ', collection.filename)"
   ]
  },
  {
   "cell_type": "code",
   "execution_count": 53,
   "metadata": {
    "scrolled": true
   },
   "outputs": [
    {
     "name": "stdout",
     "output_type": "stream",
     "text": [
      "* <Catalog id=mycat>\n",
      "    * <Catalog id=mykitten>\n",
      "        * <Collection id=landsat-8-l1>\n",
      "          * <Item id=LC08_L1GT_120046_20181012_20181012_01_RT>\n"
     ]
    }
   ],
   "source": [
    "mycat.describe()"
   ]
  },
  {
   "cell_type": "markdown",
   "metadata": {},
   "source": [
    "### Adding items to collection"
   ]
  },
  {
   "cell_type": "code",
   "execution_count": 73,
   "metadata": {},
   "outputs": [
    {
     "name": "stdout",
     "output_type": "stream",
     "text": [
      "Item name:  L1C_T53MNQ_A017245_20181011T011722\n"
     ]
    }
   ],
   "source": [
    "# open a Landsat item\n",
    "item = Item.from_file('example-catalog/eo/sentinel-2-l1c/sentinel-2a/item.json')\n",
    "print('Item name: ', item.id)"
   ]
  },
  {
   "cell_type": "code",
   "execution_count": 55,
   "metadata": {},
   "outputs": [
    {
     "name": "stdout",
     "output_type": "stream",
     "text": [
      "* <Collection id=landsat-8-l1>\n",
      "  * <Item id=LC08_L1GT_120046_20181012_20181012_01_RT>\n"
     ]
    }
   ],
   "source": [
    "collection.describe()"
   ]
  },
  {
   "cell_type": "code",
   "execution_count": 56,
   "metadata": {},
   "outputs": [],
   "source": [
    "# add it to the collection created above\n",
    "collection.add_item(item)\n",
    "# print('Item filename: ', item.filename)\n",
    "\n",
    "# print('\\n**Item links**')\n",
    "# pp.pprint(item._data['links'])"
   ]
  },
  {
   "cell_type": "code",
   "execution_count": 60,
   "metadata": {},
   "outputs": [],
   "source": [
    "mycat.set_uris_from_root('/home/simon/files/rv/stac/pystac-example/')"
   ]
  },
  {
   "cell_type": "code",
   "execution_count": 61,
   "metadata": {},
   "outputs": [
    {
     "data": {
      "text/plain": [
       "<bound method Catalog.describe of <Catalog id=mycat>>"
      ]
     },
     "execution_count": 61,
     "metadata": {},
     "output_type": "execute_result"
    }
   ],
   "source": [
    "mycat.describe"
   ]
  },
  {
   "cell_type": "code",
   "execution_count": 67,
   "metadata": {},
   "outputs": [],
   "source": [
    "mycat.save()"
   ]
  },
  {
   "cell_type": "code",
   "execution_count": null,
   "metadata": {},
   "outputs": [],
   "source": []
  }
 ],
 "metadata": {
  "kernelspec": {
   "display_name": "Python 3",
   "language": "python",
   "name": "python3"
  },
  "language_info": {
   "codemirror_mode": {
    "name": "ipython",
    "version": 3
   },
   "file_extension": ".py",
   "mimetype": "text/x-python",
   "name": "python",
   "nbconvert_exporter": "python",
   "pygments_lexer": "ipython3",
   "version": "3.6.8"
  }
 },
 "nbformat": 4,
 "nbformat_minor": 2
}
