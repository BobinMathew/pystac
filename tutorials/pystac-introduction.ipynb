{
 "cells": [
  {
   "cell_type": "markdown",
   "metadata": {},
   "source": [
    "# Pystac Tutorial\n",
    "## PySTAC Introduction"
   ]
  },
  {
   "cell_type": "markdown",
   "metadata": {},
   "source": [
    "This tutorial includes a basic introduction on reading, writing, and creating STAC objects using Pystac.\n",
    "\n",
    "It is adapted from the tutorials within the [sat-stac repo](https://github.com/sat-utils/sat-stac/blob/master/tutorial-1.ipynb).\n",
    "\n",
    "It uses an example stac stored in the `example-catalog` directory along-side this notebook. The example stac has the following format:\n",
    "\n",
    "```\n",
    "example-catalog/\n",
    "├── catalog.json\n",
    "└── eo\n",
    "    ├── catalog.json\n",
    "    ├── landsat-8-l1\n",
    "    │   ├── catalog.json\n",
    "    │   └── item.json\n",
    "    └── sentinel-2-l1c\n",
    "        ├── catalog.json\n",
    "        └── sentinel-2a\n",
    "            ├── catalog.json\n",
    "            └── item.json\n",
    "```"
   ]
  },
  {
   "cell_type": "code",
   "execution_count": 4,
   "metadata": {},
   "outputs": [],
   "source": [
    "import sys\n",
    "sys.path.append('..')"
   ]
  },
  {
   "cell_type": "code",
   "execution_count": 74,
   "metadata": {
    "scrolled": false
   },
   "outputs": [],
   "source": [
    "from pystac import Catalog, Collection, Item"
   ]
  },
  {
   "cell_type": "markdown",
   "metadata": {},
   "source": [
    "### Working with existing catalogs"
   ]
  },
  {
   "cell_type": "markdown",
   "metadata": {},
   "source": [
    "Open a root catalog from it's json file"
   ]
  },
  {
   "cell_type": "code",
   "execution_count": 6,
   "metadata": {},
   "outputs": [],
   "source": [
    "cat = Catalog.from_file('example-catalog/catalog.json')"
   ]
  },
  {
   "cell_type": "markdown",
   "metadata": {},
   "source": [
    "We can see all elements of the STAC using the `describe` method"
   ]
  },
  {
   "cell_type": "code",
   "execution_count": 8,
   "metadata": {
    "scrolled": true
   },
   "outputs": [
    {
     "name": "stdout",
     "output_type": "stream",
     "text": [
      "* <Catalog id=stac>\n",
      "/home/simon/files/rv/stac/pystac/tutorials/example-catalog/eo/catalog.json\n",
      "    * <Catalog id=stac-eo>\n",
      "/home/simon/files/rv/stac/pystac/tutorials/example-catalog/eo/sentinel-2-l1c/catalog.json\n",
      "/home/simon/files/rv/stac/pystac/tutorials/example-catalog/eo/landsat-8-l1/catalog.json\n",
      "        * <Collection id=sentinel-2-l1c>\n",
      "/home/simon/files/rv/stac/pystac/tutorials/example-catalog/eo/sentinel-2-l1c/sentinel-2a/catalog.json\n",
      "            * <Catalog id=sentinel-2a>\n",
      "/home/simon/files/rv/stac/pystac/tutorials/example-catalog/eo/sentinel-2-l1c/sentinel-2a/item.json\n",
      "              * <Item id=L1C_T53MNQ_A017245_20181011T011722>\n",
      "        * <Collection id=landsat-8-l1>\n",
      "/home/simon/files/rv/stac/pystac/tutorials/example-catalog/eo/landsat-8-l1/item.json\n",
      "          * <Item id=LC08_L1GT_120046_20181012_20181012_01_RT>\n"
     ]
    }
   ],
   "source": [
    "cat.describe()"
   ]
  },
  {
   "cell_type": "markdown",
   "metadata": {},
   "source": [
    "Each STAC object has links that you can use to traverse the STAC tree"
   ]
  },
  {
   "cell_type": "code",
   "execution_count": 9,
   "metadata": {},
   "outputs": [
    {
     "data": {
      "text/plain": [
       "[<Link rel=root target=<Catalog id=stac>>,\n",
       " <Link rel=child target=<Catalog id=stac-eo>>,\n",
       " <Link rel=self target=example-catalog/catalog.json>]"
      ]
     },
     "execution_count": 9,
     "metadata": {},
     "output_type": "execute_result"
    }
   ],
   "source": [
    "cat.links"
   ]
  },
  {
   "cell_type": "markdown",
   "metadata": {},
   "source": [
    "Pystac has several methods that allow you to access links:"
   ]
  },
  {
   "cell_type": "code",
   "execution_count": 15,
   "metadata": {},
   "outputs": [
    {
     "data": {
      "text/plain": [
       "[<Link rel=child target=<Catalog id=stac-eo>>]"
      ]
     },
     "execution_count": 15,
     "metadata": {},
     "output_type": "execute_result"
    }
   ],
   "source": [
    "# Get all child links\n",
    "cat.get_child_links()"
   ]
  },
  {
   "cell_type": "code",
   "execution_count": 17,
   "metadata": {},
   "outputs": [
    {
     "data": {
      "text/plain": [
       "<Link rel=self target=example-catalog/catalog.json>"
      ]
     },
     "execution_count": 17,
     "metadata": {},
     "output_type": "execute_result"
    }
   ],
   "source": [
    "# Get a single link by 'rel'\n",
    "cat.get_single_link('self')"
   ]
  },
  {
   "cell_type": "code",
   "execution_count": 18,
   "metadata": {},
   "outputs": [
    {
     "data": {
      "text/plain": [
       "[]"
      ]
     },
     "execution_count": 18,
     "metadata": {},
     "output_type": "execute_result"
    }
   ],
   "source": [
    "# Get item links directly within this catalog (there are none for this catalog)\n",
    "cat.get_item_links()"
   ]
  },
  {
   "cell_type": "markdown",
   "metadata": {},
   "source": [
    "or the items directly:"
   ]
  },
  {
   "cell_type": "code",
   "execution_count": 22,
   "metadata": {},
   "outputs": [
    {
     "data": {
      "text/plain": [
       "[<Catalog id=stac-eo>]"
      ]
     },
     "execution_count": 22,
     "metadata": {},
     "output_type": "execute_result"
    }
   ],
   "source": [
    "# get all child objects\n",
    "cat.get_children()"
   ]
  },
  {
   "cell_type": "code",
   "execution_count": 23,
   "metadata": {},
   "outputs": [
    {
     "data": {
      "text/plain": [
       "<Catalog id=stac-eo>"
      ]
     },
     "execution_count": 23,
     "metadata": {},
     "output_type": "execute_result"
    }
   ],
   "source": [
    "# or a single child by id\n",
    "cat.get_child('stac-eo')"
   ]
  },
  {
   "cell_type": "code",
   "execution_count": 20,
   "metadata": {},
   "outputs": [
    {
     "data": {
      "text/plain": [
       "[<Item id=L1C_T53MNQ_A017245_20181011T011722>,\n",
       " <Item id=LC08_L1GT_120046_20181012_20181012_01_RT>]"
      ]
     },
     "execution_count": 20,
     "metadata": {},
     "output_type": "execute_result"
    }
   ],
   "source": [
    "# get all items anywhere below this catalog on the STAC tree\n",
    "cat.get_all_items()"
   ]
  },
  {
   "cell_type": "markdown",
   "metadata": {},
   "source": [
    "You can access the stac item from a link using the `target` property"
   ]
  },
  {
   "cell_type": "code",
   "execution_count": 29,
   "metadata": {},
   "outputs": [
    {
     "name": "stdout",
     "output_type": "stream",
     "text": [
      "<Link rel=child target=<Catalog id=stac-eo>>\n"
     ]
    }
   ],
   "source": [
    "l = cat.get_single_link('child')\n",
    "print(l)"
   ]
  },
  {
   "cell_type": "code",
   "execution_count": 30,
   "metadata": {},
   "outputs": [
    {
     "name": "stdout",
     "output_type": "stream",
     "text": [
      "<Catalog id=stac-eo>\n"
     ]
    }
   ],
   "source": [
    "print(l.target)"
   ]
  },
  {
   "cell_type": "markdown",
   "metadata": {},
   "source": [
    "You can convert any stac item to a python dict using the `to_dict` method."
   ]
  },
  {
   "cell_type": "code",
   "execution_count": 34,
   "metadata": {},
   "outputs": [
    {
     "data": {
      "text/plain": [
       "{'id': 'stac',\n",
       " 'stac_version': '0.8.0',\n",
       " 'description': 'A STAC of public datasets',\n",
       " 'links': [{'rel': 'root',\n",
       "   'href': 'example-catalog/catalog.json',\n",
       "   'type': 'application/json'},\n",
       "  {'rel': 'child',\n",
       "   'href': '/home/simon/files/rv/stac/pystac/tutorials/example-catalog/eo/catalog.json'},\n",
       "  {'rel': 'self',\n",
       "   'href': 'example-catalog/catalog.json',\n",
       "   'type': 'application/json'}]}"
      ]
     },
     "execution_count": 34,
     "metadata": {},
     "output_type": "execute_result"
    }
   ],
   "source": [
    "cat.to_dict()"
   ]
  },
  {
   "cell_type": "code",
   "execution_count": 35,
   "metadata": {},
   "outputs": [],
   "source": [
    "# get first (and only in this case) sub-catalog\n",
    "subcat = cat.get_children()[0]"
   ]
  },
  {
   "cell_type": "code",
   "execution_count": 36,
   "metadata": {},
   "outputs": [
    {
     "name": "stdout",
     "output_type": "stream",
     "text": [
      "Root Catalog:  stac\n",
      "Sub Catalog:  stac-eo\n",
      "Sub Catalog parent:  stac\n",
      "Sub Catalog children:\n",
      "     sentinel-2-l1c\n",
      "     landsat-8-l1\n"
     ]
    }
   ],
   "source": [
    "# print some IDs\n",
    "print(\"Root Catalog: \", cat.id)\n",
    "print(\"Sub Catalog: \", subcat.id)\n",
    "print(\"Sub Catalog parent: \", subcat.get_parent().id)\n",
    "\n",
    "# iterate through child catalogs of the sub-catalog\n",
    "print(\"Sub Catalog children:\")\n",
    "for child in subcat.get_children():\n",
    "    print('    ', child.id)"
   ]
  },
  {
   "cell_type": "code",
   "execution_count": 39,
   "metadata": {},
   "outputs": [
    {
     "name": "stdout",
     "output_type": "stream",
     "text": [
      "\n",
      "**Items**\n",
      "L1C_T53MNQ_A017245_20181011T011722\n",
      "LC08_L1GT_120046_20181012_20181012_01_RT\n"
     ]
    }
   ],
   "source": [
    "print('\\n**Items**')\n",
    "for i in cat.get_all_items():\n",
    "    print(i.id)"
   ]
  },
  {
   "cell_type": "markdown",
   "metadata": {},
   "source": [
    "### Creating new catalogs"
   ]
  },
  {
   "cell_type": "markdown",
   "metadata": {},
   "source": [
    "You can initialize a new Catalog with an id and a description. Note that by default it sets a new catalog as root."
   ]
  },
  {
   "cell_type": "code",
   "execution_count": 49,
   "metadata": {
    "scrolled": true
   },
   "outputs": [],
   "source": [
    "# create a Catalog object with JSON\n",
    "cat_json = {\n",
    "    \"id\": \"mycat\",\n",
    "    \"description\": \"My shiny new STAC catalog\"\n",
    "}\n",
    "mycat = Catalog(**cat_json)"
   ]
  },
  {
   "cell_type": "code",
   "execution_count": 50,
   "metadata": {},
   "outputs": [
    {
     "data": {
      "text/plain": [
       "[<Link rel=root target=<Catalog id=mycat>>]"
      ]
     },
     "execution_count": 50,
     "metadata": {},
     "output_type": "execute_result"
    }
   ],
   "source": [
    "mycat.links"
   ]
  },
  {
   "cell_type": "markdown",
   "metadata": {},
   "source": [
    "### Adding catalogs to catalogs"
   ]
  },
  {
   "cell_type": "code",
   "execution_count": 51,
   "metadata": {
    "scrolled": true
   },
   "outputs": [],
   "source": [
    "# add a new catalog to a root catalog\n",
    "kitten_json = {\n",
    "    \"id\": \"mykitten\",\n",
    "    \"description\": \"A child catalog of my shiny new STAC catalog\"\n",
    "}\n",
    "\n",
    "kitten = Catalog(**kitten_json)"
   ]
  },
  {
   "cell_type": "markdown",
   "metadata": {},
   "source": [
    "When you add a child catalog to a parent catalog, the child catalog assumes the root catalog of it's parent. 'Child' and 'parent' links are also added to the parent and child catalogs, respectively."
   ]
  },
  {
   "cell_type": "code",
   "execution_count": 52,
   "metadata": {},
   "outputs": [
    {
     "data": {
      "text/plain": [
       "[<Link rel=root target=<Catalog id=mykitten>>]"
      ]
     },
     "execution_count": 52,
     "metadata": {},
     "output_type": "execute_result"
    }
   ],
   "source": [
    "kitten.links"
   ]
  },
  {
   "cell_type": "code",
   "execution_count": 53,
   "metadata": {},
   "outputs": [],
   "source": [
    "mycat.add_child(kitten)"
   ]
  },
  {
   "cell_type": "code",
   "execution_count": 54,
   "metadata": {},
   "outputs": [
    {
     "data": {
      "text/plain": [
       "[<Link rel=root target=<Catalog id=mycat>>,\n",
       " <Link rel=parent target=<Catalog id=mycat>>]"
      ]
     },
     "execution_count": 54,
     "metadata": {},
     "output_type": "execute_result"
    }
   ],
   "source": [
    "kitten.links"
   ]
  },
  {
   "cell_type": "code",
   "execution_count": 57,
   "metadata": {},
   "outputs": [
    {
     "data": {
      "text/plain": [
       "[<Link rel=root target=<Catalog id=mycat>>,\n",
       " <Link rel=child target=<Catalog id=mykitten>>]"
      ]
     },
     "execution_count": 57,
     "metadata": {},
     "output_type": "execute_result"
    }
   ],
   "source": [
    "mycat.links"
   ]
  },
  {
   "cell_type": "code",
   "execution_count": 55,
   "metadata": {},
   "outputs": [
    {
     "name": "stdout",
     "output_type": "stream",
     "text": [
      "* <Catalog id=mycat>\n",
      "    * <Catalog id=mykitten>\n"
     ]
    }
   ],
   "source": [
    "mycat.describe()"
   ]
  },
  {
   "cell_type": "markdown",
   "metadata": {},
   "source": [
    "### Adding collections to catalogs"
   ]
  },
  {
   "cell_type": "markdown",
   "metadata": {},
   "source": [
    "In the next two steps we will work with Pystac Collections and Items. We will pull them out of our example catalog and add them to the new STAC that we have created."
   ]
  },
  {
   "cell_type": "markdown",
   "metadata": {},
   "source": [
    "Collections are Catalogs but also include spatial and temporal extents as well as addtitional properties. "
   ]
  },
  {
   "cell_type": "code",
   "execution_count": 67,
   "metadata": {},
   "outputs": [
    {
     "name": "stdout",
     "output_type": "stream",
     "text": [
      "Collection name:  landsat-8-l1\n"
     ]
    }
   ],
   "source": [
    "# open the Landsat collection\n",
    "collection = Collection.from_file('example-catalog/eo/landsat-8-l1/catalog.json')\n",
    "print('Collection name: ', collection.id)"
   ]
  },
  {
   "cell_type": "markdown",
   "metadata": {},
   "source": [
    "See the spatial and temporal extent of this collection"
   ]
  },
  {
   "cell_type": "code",
   "execution_count": 69,
   "metadata": {},
   "outputs": [
    {
     "data": {
      "text/plain": [
       "{'spatial': {'bbox': [[-180, -90, 180, 90]]},\n",
       " 'temporal': {'interval': [['2013-06-01T00:00:00Z', None]]}}"
      ]
     },
     "execution_count": 69,
     "metadata": {},
     "output_type": "execute_result"
    }
   ],
   "source": [
    "collection.extent.to_dict()"
   ]
  },
  {
   "cell_type": "code",
   "execution_count": 70,
   "metadata": {
    "scrolled": true
   },
   "outputs": [
    {
     "data": {
      "text/plain": [
       "[<Link rel=root target=<Collection id=landsat-8-l1>>,\n",
       " <Link rel=root target=../../catalog.json>,\n",
       " <Link rel=parent target=../catalog.json>,\n",
       " <Link rel=item target=item.json>,\n",
       " <Link rel=self target=example-catalog/eo/landsat-8-l1/catalog.json>]"
      ]
     },
     "execution_count": 70,
     "metadata": {},
     "output_type": "execute_result"
    }
   ],
   "source": [
    "collection.links"
   ]
  },
  {
   "cell_type": "code",
   "execution_count": 71,
   "metadata": {
    "scrolled": true
   },
   "outputs": [],
   "source": [
    "# add it to the child catalog created above\n",
    "kitten.add_child(collection)"
   ]
  },
  {
   "cell_type": "code",
   "execution_count": 72,
   "metadata": {
    "scrolled": true
   },
   "outputs": [
    {
     "data": {
      "text/plain": [
       "[<Link rel=item target=item.json>,\n",
       " <Link rel=self target=example-catalog/eo/landsat-8-l1/catalog.json>,\n",
       " <Link rel=root target=<Catalog id=mycat>>,\n",
       " <Link rel=parent target=<Catalog id=mykitten>>]"
      ]
     },
     "execution_count": 72,
     "metadata": {},
     "output_type": "execute_result"
    }
   ],
   "source": [
    "collection.links"
   ]
  },
  {
   "cell_type": "markdown",
   "metadata": {},
   "source": [
    "### Adding items to collection"
   ]
  },
  {
   "cell_type": "markdown",
   "metadata": {},
   "source": [
    "Items are stac objects whose parents can be either Catalogs or Collections. They also have spatio-temporal information and assets. Assets point directly to the data included in the STAC."
   ]
  },
  {
   "cell_type": "code",
   "execution_count": 83,
   "metadata": {},
   "outputs": [
    {
     "name": "stdout",
     "output_type": "stream",
     "text": [
      "Item name:  L1C_T53MNQ_A017245_20181011T011722\n"
     ]
    }
   ],
   "source": [
    "# open a Landsat item\n",
    "item = Item.from_file('example-catalog/eo/sentinel-2-l1c/sentinel-2a/item.json')\n",
    "print('Item name: ', item.id)"
   ]
  },
  {
   "cell_type": "code",
   "execution_count": 84,
   "metadata": {},
   "outputs": [
    {
     "data": {
      "text/plain": [
       "[<Link rel=self target=item.json>,\n",
       " <Link rel=root target=../../../catalog.json>,\n",
       " <Link rel=parent target=catalog.json>,\n",
       " <Link rel=collection target=../catalog.json>]"
      ]
     },
     "execution_count": 84,
     "metadata": {},
     "output_type": "execute_result"
    }
   ],
   "source": [
    "item.links"
   ]
  },
  {
   "cell_type": "code",
   "execution_count": 80,
   "metadata": {},
   "outputs": [
    {
     "data": {
      "text/plain": [
       "{'B01': <Asset href=https://sentinel-s2-l1c.s3.amazonaws.com/tiles/53/M/NQ/2018/10/11/0/B01.jp2>,\n",
       " 'B02': <Asset href=https://sentinel-s2-l1c.s3.amazonaws.com/tiles/53/M/NQ/2018/10/11/0/B02.jp2>,\n",
       " 'B03': <Asset href=https://sentinel-s2-l1c.s3.amazonaws.com/tiles/53/M/NQ/2018/10/11/0/B03.jp2>,\n",
       " 'B04': <Asset href=https://sentinel-s2-l1c.s3.amazonaws.com/tiles/53/M/NQ/2018/10/11/0/B04.jp2>,\n",
       " 'B05': <Asset href=https://sentinel-s2-l1c.s3.amazonaws.com/tiles/53/M/NQ/2018/10/11/0/B05.jp2>,\n",
       " 'B06': <Asset href=https://sentinel-s2-l1c.s3.amazonaws.com/tiles/53/M/NQ/2018/10/11/0/B06.jp2>,\n",
       " 'B07': <Asset href=https://sentinel-s2-l1c.s3.amazonaws.com/tiles/53/M/NQ/2018/10/11/0/B07.jp2>,\n",
       " 'B08': <Asset href=https://sentinel-s2-l1c.s3.amazonaws.com/tiles/53/M/NQ/2018/10/11/0/B08.jp2>,\n",
       " 'B09': <Asset href=https://sentinel-s2-l1c.s3.amazonaws.com/tiles/53/M/NQ/2018/10/11/0/B09.jp2>,\n",
       " 'B10': <Asset href=https://sentinel-s2-l1c.s3.amazonaws.com/tiles/53/M/NQ/2018/10/11/0/B10.jp2>,\n",
       " 'B11': <Asset href=https://sentinel-s2-l1c.s3.amazonaws.com/tiles/53/M/NQ/2018/10/11/0/B11.jp2>,\n",
       " 'B12': <Asset href=https://sentinel-s2-l1c.s3.amazonaws.com/tiles/53/M/NQ/2018/10/11/0/B12.jp2>,\n",
       " 'B8A': <Asset href=https://sentinel-s2-l1c.s3.amazonaws.com/tiles/53/M/NQ/2018/10/11/0/B8A.jp2>,\n",
       " 'thumbnail': <Asset href=https://roda.sentinel-hub.com/sentinel-s2-l1c/tiles/53/M/NQ/2018/10/11/0/preview.jpg>,\n",
       " 'tki': <Asset href=https://sentinel-s2-l1c.s3.amazonaws.com/tiles/53/M/NQ/2018/10/11/0/TKI.jp2>,\n",
       " 'metadata': <Asset href=https://roda.sentinel-hub.com/sentinel-s2-l1c/tiles/53/M/NQ/2018/10/11/0/metadata.xml>}"
      ]
     },
     "execution_count": 80,
     "metadata": {},
     "output_type": "execute_result"
    }
   ],
   "source": [
    "item.assets"
   ]
  },
  {
   "cell_type": "code",
   "execution_count": 85,
   "metadata": {},
   "outputs": [],
   "source": [
    "# add it to the collection created above\n",
    "collection.add_item(item)"
   ]
  },
  {
   "cell_type": "code",
   "execution_count": 89,
   "metadata": {},
   "outputs": [
    {
     "name": "stdout",
     "output_type": "stream",
     "text": [
      "* <Catalog id=mycat>\n",
      "    * <Catalog id=mykitten>\n",
      "        * <Collection id=landsat-8-l1>\n",
      "          * <Item id=LC08_L1GT_120046_20181012_20181012_01_RT>\n",
      "        * <Collection id=landsat-8-l1>\n",
      "          * <Item id=LC08_L1GT_120046_20181012_20181012_01_RT>\n"
     ]
    }
   ],
   "source": [
    "# now look at the catalog we've created\n",
    "mycat.describe()"
   ]
  },
  {
   "cell_type": "markdown",
   "metadata": {},
   "source": [
    "Currently, this STAC only exists in memory. We can specify the uri's using the `set_uris_from_root` method. You give this method a root directory and it will generate paths for all STAC objects relative to that directory."
   ]
  },
  {
   "cell_type": "code",
   "execution_count": 91,
   "metadata": {},
   "outputs": [],
   "source": [
    "mycat.set_uris_from_root('~/pystac-example/')\n",
    "mycat.save()"
   ]
  }
 ],
 "metadata": {
  "kernelspec": {
   "display_name": "Python 3",
   "language": "python",
   "name": "python3"
  },
  "language_info": {
   "codemirror_mode": {
    "name": "ipython",
    "version": 3
   },
   "file_extension": ".py",
   "mimetype": "text/x-python",
   "name": "python",
   "nbconvert_exporter": "python",
   "pygments_lexer": "ipython3",
   "version": "3.6.8"
  }
 },
 "nbformat": 4,
 "nbformat_minor": 2
}
